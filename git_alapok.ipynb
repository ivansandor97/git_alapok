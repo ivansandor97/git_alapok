{
 "metadata": {
  "name": "",
  "signature": "sha256:83cfb98a210b73b622fd997e574463b85c2181b186e5bdf1ce738b6137467412"
 },
 "nbformat": 3,
 "nbformat_minor": 0,
 "worksheets": [
  {
   "cells": [
    {
     "cell_type": "markdown",
     "metadata": {},
     "source": [
      "*jjj*\n"
     ]
    },
    {
     "cell_type": "markdown",
     "metadata": {},
     "source": [
      "#Git alapok"
     ]
    },
    {
     "cell_type": "markdown",
     "metadata": {},
     "source": [
      "Git konfigur\u00e1l\u00e1sa:\n",
      "\n",
      "Haszn\u00e1latba veszem az \u00faj laptopomat, bejelentkezek.<br>\n",
      "Felhaszn\u00e1l\u00f3i n\u00e9v: <br>\n",
      "git config --global user.name \"Iv\u00e1n S\u00e1ndor Zsolt\" <br>\n",
      "\n"
     ]
    },
    {
     "cell_type": "code",
     "collapsed": false,
     "input": [
      "!git config --global user.name \"Iv\u00e1n S\u00e1ndor Zsolt\" \n"
     ],
     "language": "python",
     "metadata": {},
     "outputs": [],
     "prompt_number": 5
    },
    {
     "cell_type": "markdown",
     "metadata": {},
     "source": [
      "Felhaszn\u00e1l\u00f3i email c\u00edm: <br>\n",
      "git config --global user.name \"ivan.sandor97@gmail.com\" "
     ]
    },
    {
     "cell_type": "code",
     "collapsed": false,
     "input": [
      "!git config --global user.email \"ivan.sandor97@gmail.com\" "
     ],
     "language": "python",
     "metadata": {},
     "outputs": [
      {
       "output_type": "stream",
       "stream": "stdout",
       "text": [
        "\u00f6sszesen 12\r\n",
        "drwxrwxr-x  3 ivansandorzsolt ivansandorzsolt 4096 febr  27 10:09 .\r\n",
        "drwxr-xr-x 41 ivansandorzsolt ivansandorzsolt 4096 febr  27 10:10 ..\r\n",
        "drwxrwxr-x  7 ivansandorzsolt ivansandorzsolt 4096 febr  27 10:09 .git\r\n"
       ]
      }
     ],
     "prompt_number": 4
    },
    {
     "cell_type": "markdown",
     "metadata": {},
     "source": [
      "Ezek az adatok egy .gitconfig f\u00e1jlba ker\u00fclnek a bele.<br>\n",
      "cat .gitconfig"
     ]
    },
    {
     "cell_type": "code",
     "collapsed": false,
     "input": [
      "!cat .gitconfig"
     ],
     "language": "python",
     "metadata": {},
     "outputs": [
      {
       "output_type": "stream",
       "stream": "stdout",
       "text": [
        "[user]\r\n",
        "\tname = Iv\u00e1n S\u00e1ndor Zsolt\r\n",
        "\temail = ivan.sandor97@gmail.com\r\n"
       ]
      }
     ],
     "prompt_number": 6
    },
    {
     "cell_type": "markdown",
     "metadata": {},
     "source": [
      "#Kezdj\u00fck el a projekt\u00fcnket"
     ]
    },
    {
     "cell_type": "markdown",
     "metadata": {},
     "source": [
      "Hozzunk l\u00e9tre a projekt k\u00f6nyvt\u00e1rat munka n\u00e9ven: <br>\n",
      "mkdir munka"
     ]
    },
    {
     "cell_type": "code",
     "collapsed": false,
     "input": [
      "!mkdir munka"
     ],
     "language": "python",
     "metadata": {},
     "outputs": []
    },
    {
     "cell_type": "markdown",
     "metadata": {},
     "source": [
      "L\u00e9trehozunk egy git t\u00e1rol\u00f3t(repository) a munka k\u00f6nyvt\u00e1rban: <br>\n",
      "cd munka; git init"
     ]
    },
    {
     "cell_type": "code",
     "collapsed": false,
     "input": [
      "!cd munka; git init"
     ],
     "language": "python",
     "metadata": {},
     "outputs": []
    },
    {
     "cell_type": "markdown",
     "metadata": {},
     "source": [
      "L\u00e9trehozzuk a munkater\u00fcletet a helyi t\u00e1rol\u00f3ban<br>"
     ]
    },
    {
     "cell_type": "code",
     "collapsed": false,
     "input": [
      "!git clone munka"
     ],
     "language": "python",
     "metadata": {},
     "outputs": []
    },
    {
     "cell_type": "markdown",
     "metadata": {},
     "source": [
      "F\u00e1jlok felaj\u00e1nl\u00e1sa a gitnek<br>"
     ]
    },
    {
     "cell_type": "code",
     "collapsed": false,
     "input": [
      "!git add macska"
     ],
     "language": "python",
     "metadata": {},
     "outputs": []
    },
    {
     "cell_type": "markdown",
     "metadata": {},
     "source": [
      "\u00dczenet \u00edr\u00e1sa<br>"
     ]
    },
    {
     "cell_type": "code",
     "collapsed": false,
     "input": [
      "!git commit -m \"Az \u00fczenet helye\""
     ],
     "language": "python",
     "metadata": {},
     "outputs": []
    },
    {
     "cell_type": "markdown",
     "metadata": {},
     "source": [
      "Ugr\u00e1lni a commitok k\u00f6z\u00f6tt<br>"
     ]
    },
    {
     "cell_type": "code",
     "collapsed": false,
     "input": [
      "!git checkout"
     ],
     "language": "python",
     "metadata": {},
     "outputs": []
    },
    {
     "cell_type": "markdown",
     "metadata": {},
     "source": [
      "Felt\u00f6lteni a szerverre <br>"
     ]
    },
    {
     "cell_type": "code",
     "collapsed": false,
     "input": [
      "!git push"
     ],
     "language": "python",
     "metadata": {},
     "outputs": []
    }
   ],
   "metadata": {}
  }
 ]
}